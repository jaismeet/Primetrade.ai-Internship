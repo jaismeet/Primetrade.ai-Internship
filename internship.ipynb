{
 "cells": [
  {
   "cell_type": "markdown",
   "metadata": {},
   "source": [
    "#  1. Load Data"
   ]
  },
  {
   "cell_type": "code",
   "execution_count": 2,
   "metadata": {},
   "outputs": [
    {
     "name": "stdout",
     "output_type": "stream",
     "text": [
      "Initial data shape: (150, 2)\n"
     ]
    },
    {
     "data": {
      "text/html": [
       "<div>\n",
       "<style scoped>\n",
       "    .dataframe tbody tr th:only-of-type {\n",
       "        vertical-align: middle;\n",
       "    }\n",
       "\n",
       "    .dataframe tbody tr th {\n",
       "        vertical-align: top;\n",
       "    }\n",
       "\n",
       "    .dataframe thead th {\n",
       "        text-align: right;\n",
       "    }\n",
       "</style>\n",
       "<table border=\"1\" class=\"dataframe\">\n",
       "  <thead>\n",
       "    <tr style=\"text-align: right;\">\n",
       "      <th></th>\n",
       "      <th>Port_IDs</th>\n",
       "      <th>Trade_History</th>\n",
       "    </tr>\n",
       "  </thead>\n",
       "  <tbody>\n",
       "    <tr>\n",
       "      <th>0</th>\n",
       "      <td>3925368433214965504</td>\n",
       "      <td>[{'time': 1718899656000, 'symbol': 'SOLUSDT', ...</td>\n",
       "    </tr>\n",
       "    <tr>\n",
       "      <th>1</th>\n",
       "      <td>4002413037164645377</td>\n",
       "      <td>[{'time': 1718980078000, 'symbol': 'NEARUSDT',...</td>\n",
       "    </tr>\n",
       "  </tbody>\n",
       "</table>\n",
       "</div>"
      ],
      "text/plain": [
       "              Port_IDs                                      Trade_History\n",
       "0  3925368433214965504  [{'time': 1718899656000, 'symbol': 'SOLUSDT', ...\n",
       "1  4002413037164645377  [{'time': 1718980078000, 'symbol': 'NEARUSDT',..."
      ]
     },
     "execution_count": 2,
     "metadata": {},
     "output_type": "execute_result"
    }
   ],
   "source": [
    "import numpy as np \n",
    "import pandas as pd \n",
    "import matplotlib.pyplot as plt\n",
    "\n",
    "file = \"TRADES_CopyTr_90D_ROI.csv\"\n",
    "data = pd.read_csv(file)\n",
    "\n",
    "# it display first 5 rows of data\n",
    "data.head()\n",
    "\n",
    "print(\"Initial data shape:\", data.shape)\n",
    "data.head(2)\n",
    "\n"
   ]
  },
  {
   "cell_type": "markdown",
   "metadata": {},
   "source": [
    "# 2. Process Trade History"
   ]
  },
  {
   "cell_type": "code",
   "execution_count": 5,
   "metadata": {},
   "outputs": [
    {
     "name": "stdout",
     "output_type": "stream",
     "text": [
      "Skipping invalid trade history for Port_ID 3919965573764932864\n",
      "\n",
      "Processed trades shape: (211277, 15)\n"
     ]
    },
    {
     "data": {
      "text/html": [
       "<div>\n",
       "<style scoped>\n",
       "    .dataframe tbody tr th:only-of-type {\n",
       "        vertical-align: middle;\n",
       "    }\n",
       "\n",
       "    .dataframe tbody tr th {\n",
       "        vertical-align: top;\n",
       "    }\n",
       "\n",
       "    .dataframe thead th {\n",
       "        text-align: right;\n",
       "    }\n",
       "</style>\n",
       "<table border=\"1\" class=\"dataframe\">\n",
       "  <thead>\n",
       "    <tr style=\"text-align: right;\">\n",
       "      <th></th>\n",
       "      <th>time</th>\n",
       "      <th>symbol</th>\n",
       "      <th>side</th>\n",
       "      <th>price</th>\n",
       "      <th>fee</th>\n",
       "      <th>feeAsset</th>\n",
       "      <th>quantity</th>\n",
       "      <th>quantityAsset</th>\n",
       "      <th>realizedProfit</th>\n",
       "      <th>realizedProfitAsset</th>\n",
       "      <th>baseAsset</th>\n",
       "      <th>qty</th>\n",
       "      <th>positionSide</th>\n",
       "      <th>activeBuy</th>\n",
       "      <th>Port_IDs</th>\n",
       "    </tr>\n",
       "  </thead>\n",
       "  <tbody>\n",
       "    <tr>\n",
       "      <th>0</th>\n",
       "      <td>1718899656000</td>\n",
       "      <td>SOLUSDT</td>\n",
       "      <td>BUY</td>\n",
       "      <td>132.53700</td>\n",
       "      <td>-0.994027</td>\n",
       "      <td>USDT</td>\n",
       "      <td>1988.05500</td>\n",
       "      <td>USDT</td>\n",
       "      <td>0.0</td>\n",
       "      <td>USDT</td>\n",
       "      <td>SOL</td>\n",
       "      <td>15.0</td>\n",
       "      <td>LONG</td>\n",
       "      <td>True</td>\n",
       "      <td>3925368433214965504</td>\n",
       "    </tr>\n",
       "    <tr>\n",
       "      <th>1</th>\n",
       "      <td>1718899618000</td>\n",
       "      <td>DOGEUSDT</td>\n",
       "      <td>BUY</td>\n",
       "      <td>0.12182</td>\n",
       "      <td>-0.279796</td>\n",
       "      <td>USDT</td>\n",
       "      <td>1398.98088</td>\n",
       "      <td>USDT</td>\n",
       "      <td>0.0</td>\n",
       "      <td>USDT</td>\n",
       "      <td>DOGE</td>\n",
       "      <td>11484.0</td>\n",
       "      <td>LONG</td>\n",
       "      <td>False</td>\n",
       "      <td>3925368433214965504</td>\n",
       "    </tr>\n",
       "  </tbody>\n",
       "</table>\n",
       "</div>"
      ],
      "text/plain": [
       "            time    symbol side      price       fee feeAsset    quantity  \\\n",
       "0  1718899656000   SOLUSDT  BUY  132.53700 -0.994027     USDT  1988.05500   \n",
       "1  1718899618000  DOGEUSDT  BUY    0.12182 -0.279796     USDT  1398.98088   \n",
       "\n",
       "  quantityAsset  realizedProfit realizedProfitAsset baseAsset      qty  \\\n",
       "0          USDT             0.0                USDT       SOL     15.0   \n",
       "1          USDT             0.0                USDT      DOGE  11484.0   \n",
       "\n",
       "  positionSide  activeBuy             Port_IDs  \n",
       "0         LONG       True  3925368433214965504  \n",
       "1         LONG      False  3925368433214965504  "
      ]
     },
     "execution_count": 5,
     "metadata": {},
     "output_type": "execute_result"
    }
   ],
   "source": [
    "# Convert trade history to Python objects\n",
    "parsed_trades = []\n",
    "\n",
    "for idx, row in data.iterrows():\n",
    "    port_id = row['Port_IDs']\n",
    "    trade_history = row['Trade_History']\n",
    "    \n",
    "    # Skip NaN values\n",
    "    if isinstance(trade_history, float):\n",
    "        print(f\"Skipping invalid trade history for Port_ID {port_id}\")\n",
    "        continue\n",
    "    \n",
    "    try:\n",
    "        # Clean and parse the trade history\n",
    "        trade_str = trade_history.replace(\"'\", '\"')\n",
    "        trades = eval(trade_str)\n",
    "        \n",
    "        for trade in trades:\n",
    "            trade['Port_IDs'] = port_id\n",
    "            parsed_trades.append(trade)\n",
    "            \n",
    "    except Exception as e:\n",
    "        print(f\"Error processing Port_ID {port_id}: {str(e)}\")\n",
    "        continue\n",
    "\n",
    "trade_df = pd.DataFrame(parsed_trades)\n",
    "print(\"\\nProcessed trades shape:\", trade_df.shape)\n",
    "trade_df.head(2)"
   ]
  },
  {
   "cell_type": "markdown",
   "metadata": {},
   "source": [
    "# 3. Clean Data"
   ]
  },
  {
   "cell_type": "code",
   "execution_count": 6,
   "metadata": {},
   "outputs": [
    {
     "name": "stdout",
     "output_type": "stream",
     "text": [
      "\n",
      "Position types distribution:\n",
      "position_type\n",
      "unknown        78585\n",
      "short_open     36046\n",
      "short_close    34992\n",
      "long_open      31131\n",
      "long_close     30523\n",
      "Name: count, dtype: int64\n"
     ]
    }
   ],
   "source": [
    "numeric_cols = ['price', 'fee', 'quantity', 'realizedProfit', 'qty']\n",
    "trade_df[numeric_cols] = trade_df[numeric_cols].apply(pd.to_numeric, errors='coerce')\n",
    "trade_df['time'] = pd.to_datetime(trade_df['time'], unit='ms')\n",
    "\n",
    "# Classify positions\n",
    "trade_df['position_type'] = np.select(\n",
    "    [\n",
    "        (trade_df['side'] == 'BUY') & (trade_df['positionSide'] == 'LONG'),\n",
    "        (trade_df['side'] == 'SELL') & (trade_df['positionSide'] == 'LONG'),\n",
    "        (trade_df['side'] == 'SELL') & (trade_df['positionSide'] == 'SHORT'),\n",
    "        (trade_df['side'] == 'BUY') & (trade_df['positionSide'] == 'SHORT')\n",
    "    ],\n",
    "    ['long_open', 'long_close', 'short_open', 'short_close'],\n",
    "    'unknown'\n",
    ")\n",
    "print(\"\\nPosition types distribution:\")\n",
    "print(trade_df['position_type'].value_counts())"
   ]
  },
  {
   "cell_type": "markdown",
   "metadata": {},
   "source": [
    "# 4. Calculate Metrics"
   ]
  },
  {
   "cell_type": "code",
   "execution_count": 7,
   "metadata": {},
   "outputs": [
    {
     "name": "stdout",
     "output_type": "stream",
     "text": [
      "\n",
      "Metrics sample:\n"
     ]
    },
    {
     "data": {
      "text/html": [
       "<div>\n",
       "<style scoped>\n",
       "    .dataframe tbody tr th:only-of-type {\n",
       "        vertical-align: middle;\n",
       "    }\n",
       "\n",
       "    .dataframe tbody tr th {\n",
       "        vertical-align: top;\n",
       "    }\n",
       "\n",
       "    .dataframe thead th {\n",
       "        text-align: right;\n",
       "    }\n",
       "</style>\n",
       "<table border=\"1\" class=\"dataframe\">\n",
       "  <thead>\n",
       "    <tr style=\"text-align: right;\">\n",
       "      <th></th>\n",
       "      <th>Port_IDs</th>\n",
       "      <th>ROI</th>\n",
       "      <th>PnL</th>\n",
       "      <th>Sharpe Ratio</th>\n",
       "      <th>MDD</th>\n",
       "      <th>Win Rate</th>\n",
       "      <th>Win Positions</th>\n",
       "      <th>Total Positions</th>\n",
       "    </tr>\n",
       "  </thead>\n",
       "  <tbody>\n",
       "    <tr>\n",
       "      <th>0</th>\n",
       "      <td>3672754654734989568</td>\n",
       "      <td>0.009074</td>\n",
       "      <td>566.597660</td>\n",
       "      <td>0.185274</td>\n",
       "      <td>-0.460781</td>\n",
       "      <td>0.443038</td>\n",
       "      <td>210</td>\n",
       "      <td>474</td>\n",
       "    </tr>\n",
       "    <tr>\n",
       "      <th>1</th>\n",
       "      <td>3733192481840423936</td>\n",
       "      <td>0.005035</td>\n",
       "      <td>2923.977200</td>\n",
       "      <td>0.060265</td>\n",
       "      <td>-0.760355</td>\n",
       "      <td>0.802612</td>\n",
       "      <td>553</td>\n",
       "      <td>689</td>\n",
       "    </tr>\n",
       "    <tr>\n",
       "      <th>2</th>\n",
       "      <td>3768170840939476993</td>\n",
       "      <td>0.000000</td>\n",
       "      <td>243.668899</td>\n",
       "      <td>0.424277</td>\n",
       "      <td>0.000000</td>\n",
       "      <td>0.428571</td>\n",
       "      <td>6</td>\n",
       "      <td>14</td>\n",
       "    </tr>\n",
       "  </tbody>\n",
       "</table>\n",
       "</div>"
      ],
      "text/plain": [
       "              Port_IDs       ROI          PnL  Sharpe Ratio       MDD  \\\n",
       "0  3672754654734989568  0.009074   566.597660      0.185274 -0.460781   \n",
       "1  3733192481840423936  0.005035  2923.977200      0.060265 -0.760355   \n",
       "2  3768170840939476993  0.000000   243.668899      0.424277  0.000000   \n",
       "\n",
       "   Win Rate  Win Positions  Total Positions  \n",
       "0  0.443038            210              474  \n",
       "1  0.802612            553              689  \n",
       "2  0.428571              6               14  "
      ]
     },
     "execution_count": 7,
     "metadata": {},
     "output_type": "execute_result"
    }
   ],
   "source": [
    "metrics = []\n",
    "for port_id, group in trade_df.groupby('Port_IDs'):\n",
    "    # Basic metrics\n",
    "    wins = (group['realizedProfit'] > 0).sum()\n",
    "    total = len(group)\n",
    "    \n",
    "    # Investment calculation\n",
    "    investment = group[group['position_type'].isin(['long_open', 'short_open'])]['quantity'].abs().sum()\n",
    "    \n",
    "    # ROI and PnL\n",
    "    pnl = group['realizedProfit'].sum()\n",
    "    roi = pnl / investment if investment != 0 else 0\n",
    "    \n",
    "    # Sharpe Ratio\n",
    "    returns = group['realizedProfit']\n",
    "    sharpe = returns.mean() / returns.std() if len(returns) > 1 and returns.std() != 0 else 0\n",
    "    \n",
    "    # Maximum Drawdown\n",
    "    cumulative = returns.cumsum()\n",
    "    peak = cumulative.expanding(min_periods=1).max()\n",
    "    drawdown = (cumulative - peak)/peak.abs()\n",
    "    mdd = drawdown.min() if not drawdown.empty else 0\n",
    "    \n",
    "    metrics.append({\n",
    "        'Port_IDs': port_id,\n",
    "        'ROI': roi,\n",
    "        'PnL': pnl,\n",
    "        'Sharpe Ratio': sharpe,\n",
    "        'MDD': mdd,\n",
    "        'Win Rate': wins/total if total > 0 else 0,\n",
    "        'Win Positions': wins,\n",
    "        'Total Positions': total\n",
    "    })\n",
    "\n",
    "metrics_df = pd.DataFrame(metrics)\n",
    "print(\"\\nMetrics sample:\")\n",
    "metrics_df.head(3)"
   ]
  },
  {
   "cell_type": "markdown",
   "metadata": {},
   "source": [
    "# 5. Rank Portfolios"
   ]
  },
  {
   "cell_type": "code",
   "execution_count": 9,
   "metadata": {},
   "outputs": [
    {
     "name": "stdout",
     "output_type": "stream",
     "text": [
      "\n",
      "Top 20 Portfolios:\n",
      "               Port_IDs  Score  Rank\n",
      "0   3672754654734989568    NaN     1\n",
      "1   3733192481840423936    NaN     2\n",
      "2   3768170840939476993    NaN     3\n",
      "3   3784403294629753856    NaN     4\n",
      "4   3786761687746711808    NaN     5\n",
      "5   3788465932399412480    NaN     6\n",
      "6   3818233536529843712    NaN     7\n",
      "7   3819545518395756033    NaN     8\n",
      "8   3826087012661391104    NaN     9\n",
      "9   3858510226868015873    NaN    10\n",
      "10  3865845304835489536    NaN    11\n",
      "11  3878631538480067329    NaN    12\n",
      "12  3879821005658659073    NaN    13\n",
      "13  3880920727367689984    NaN    14\n",
      "14  3886752488982104320    NaN    15\n",
      "15  3887577207880438784    NaN    16\n",
      "16  3891020560590657281    NaN    17\n",
      "17  3907081197088384000    NaN    18\n",
      "18  3910887259807777281    NaN    19\n",
      "19  3910983669796782848    NaN    20\n"
     ]
    }
   ],
   "source": [
    "# Normalization\n",
    "norm_df = metrics_df.copy()\n",
    "for col in ['ROI', 'PnL', 'Sharpe Ratio', 'Win Rate']:\n",
    "    norm_df[col] = (metrics_df[col] - metrics_df[col].min()) / \\\n",
    "                  (metrics_df[col].max() - metrics_df[col].min())\n",
    "    \n",
    "norm_df['MDD'] = 1 - (metrics_df['MDD'] - metrics_df['MDD'].min()) / \\\n",
    "                (metrics_df['MDD'].max() - metrics_df['MDD'].min())\n",
    "\n",
    "# Weighted scoring\n",
    "weights = [0.3, 0.2, 0.25, 0.15, 0.1]\n",
    "norm_df['Score'] = (norm_df['ROI'] * weights[0] +\n",
    "                   norm_df['PnL'] * weights[1] +\n",
    "                   norm_df['Sharpe Ratio'] * weights[2] +\n",
    "                   norm_df['MDD'] * weights[3] +\n",
    "                   norm_df['Win Rate'] * weights[4])\n",
    "\n",
    "# Final ranking\n",
    "top_20 = norm_df.sort_values('Score', ascending=False).head(20)\n",
    "top_20['Rank'] = range(1, 21)\n",
    "\n",
    "print(\"\\nTop 20 Portfolios:\")\n",
    "print(top_20[['Port_IDs', 'Score', 'Rank']].to_string())"
   ]
  },
  {
   "cell_type": "markdown",
   "metadata": {},
   "source": [
    "# 6. Save Results"
   ]
  },
  {
   "cell_type": "code",
   "execution_count": 10,
   "metadata": {},
   "outputs": [],
   "source": [
    "metrics_df.to_csv('portfolio_metrics.csv', index=False)\n",
    "top_20.to_csv('top_20_portfolios.csv', index=False)"
   ]
  },
  {
   "cell_type": "code",
   "execution_count": 11,
   "metadata": {},
   "outputs": [
    {
     "name": "stdout",
     "output_type": "stream",
     "text": [
      "\n",
      "Files saved:\n",
      "- portfolio_metrics.csv\n",
      "- top_20_portfolios.csv \n",
      "      \n"
     ]
    }
   ],
   "source": [
    "print(\"\"\"\n",
    "Files saved:\n",
    "- portfolio_metrics.csv\n",
    "- top_20_portfolios.csv \n",
    "      \"\"\")"
   ]
  }
 ],
 "metadata": {
  "kernelspec": {
   "display_name": "Python 3",
   "language": "python",
   "name": "python3"
  },
  "language_info": {
   "codemirror_mode": {
    "name": "ipython",
    "version": 3
   },
   "file_extension": ".py",
   "mimetype": "text/x-python",
   "name": "python",
   "nbconvert_exporter": "python",
   "pygments_lexer": "ipython3",
   "version": "3.12.5"
  }
 },
 "nbformat": 4,
 "nbformat_minor": 2
}
